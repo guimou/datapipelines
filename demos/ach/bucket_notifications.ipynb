{
 "cells": [
  {
   "cell_type": "code",
   "execution_count": null,
   "metadata": {},
   "outputs": [],
   "source": [
    "import boto3\n",
    "import json\n",
    "import botocore\n",
    "import argparse"
   ]
  },
  {
   "cell_type": "code",
   "execution_count": null,
   "metadata": {},
   "outputs": [],
   "source": [
    "endpoint_url = 'http://rook-ceph-rgw-s3a.openshift-storage'\n",
    "aws_access_key_id = 'replace_me'\n",
    "aws_secret_access_key = 'replace_me'"
   ]
  },
  {
   "cell_type": "code",
   "execution_count": null,
   "metadata": {},
   "outputs": [],
   "source": [
    "s3 = boto3.client('s3',\n",
    "                endpoint_url = endpoint_url,\n",
    "                aws_access_key_id = aws_access_key_id,\n",
    "                aws_secret_access_key = aws_secret_access_key,\n",
    "                region_name = 'default',\n",
    "                config=botocore.client.Config(signature_version = 's3'))\n",
    "\n",
    "sns = boto3.client('sns', \n",
    "                endpoint_url = endpoint_url, \n",
    "                aws_access_key_id = aws_access_key_id,\n",
    "                aws_secret_access_key= aws_secret_access_key,\n",
    "                region_name='default', \n",
    "                config=botocore.client.Config(signature_version = 's3'))"
   ]
  },
  {
   "cell_type": "code",
   "execution_count": null,
   "metadata": {},
   "outputs": [],
   "source": [
    "attributes = {}\n",
    "attributes['push-endpoint'] = 'kafka://my-cluster-kafka-bootstrap.ach:9092'\n",
    "attributes['kafka-ack-level'] = 'broker'"
   ]
  },
  {
   "cell_type": "code",
   "execution_count": null,
   "metadata": {},
   "outputs": [],
   "source": [
    "def create_topic(topic):\n",
    "    topic_arn = sns.create_topic(Name=topic, Attributes=attributes)['TopicArn']\n",
    "    return topic_arn"
   ]
  },
  {
   "cell_type": "code",
   "execution_count": null,
   "metadata": {},
   "outputs": [],
   "source": [
    "create_topic('rdfi')\n",
    "create_topic('odfi')\n",
    "create_topic('merchant-upload')"
   ]
  },
  {
   "cell_type": "code",
   "execution_count": null,
   "metadata": {},
   "outputs": [],
   "source": [
    "sns.list_topics()"
   ]
  },
  {
   "cell_type": "code",
   "execution_count": null,
   "metadata": {},
   "outputs": [],
   "source": [
    "def create_bucket(bucket_name):\n",
    "    result = s3.create_bucket(Bucket=bucket_name)\n",
    "    return result"
   ]
  },
  {
   "cell_type": "code",
   "execution_count": null,
   "metadata": {},
   "outputs": [],
   "source": [
    "create_bucket('ach-merchant-upload')\n",
    "for i in range(1,8):\n",
    "    create_bucket('ach-odfi-0620000'+str(i))\n",
    "    create_bucket('ach-rdfi-0620000'+str(i))"
   ]
  },
  {
   "cell_type": "code",
   "execution_count": null,
   "metadata": {},
   "outputs": [],
   "source": [
    "s3.list_buckets()['Buckets']"
   ]
  },
  {
   "cell_type": "code",
   "execution_count": null,
   "metadata": {},
   "outputs": [],
   "source": [
    "bucket_notifications_configuration = {\n",
    "            \"TopicConfigurations\": [\n",
    "                {\n",
    "                    \"Id\": 'merchant-upload',\n",
    "                    \"TopicArn\": 'arn:aws:sns:s3a::merchant-upload',\n",
    "                    \"Events\": [\"s3:ObjectCreated:*\", \"s3:ObjectRemoved:*\"]\n",
    "                }\n",
    "            ]\n",
    "        }\n",
    "\n",
    "s3.put_bucket_notification_configuration(Bucket = 'ach-merchant-upload',\n",
    "        NotificationConfiguration=bucket_notifications_configuration)"
   ]
  },
  {
   "cell_type": "code",
   "execution_count": null,
   "metadata": {},
   "outputs": [],
   "source": [
    "s3.get_bucket_notification_configuration(Bucket = 'ach-merchant-upload')"
   ]
  },
  {
   "cell_type": "code",
   "execution_count": null,
   "metadata": {},
   "outputs": [],
   "source": [
    "for i in range(1,8):\n",
    "    bucket_notifications_configuration = {\n",
    "                \"TopicConfigurations\": [\n",
    "                    {\n",
    "                        \"Id\": 'ach-odfi-0620000'+str(i),\n",
    "                        \"TopicArn\": 'arn:aws:sns:s3a::odfi',\n",
    "                        \"Events\": [\"s3:ObjectCreated:*\", \"s3:ObjectRemoved:*\"]\n",
    "                    }\n",
    "                ]\n",
    "            }\n",
    "    s3.put_bucket_notification_configuration(Bucket = 'ach-odfi-0620000'+str(i),\n",
    "        NotificationConfiguration=bucket_notifications_configuration)"
   ]
  },
  {
   "cell_type": "code",
   "execution_count": null,
   "metadata": {},
   "outputs": [],
   "source": [
    "for i in range(1,8):\n",
    "    print('ach-odfi-0620000'+str(i))\n",
    "    print(s3.get_bucket_notification_configuration(Bucket = 'ach-odfi-0620000'+str(i))['TopicConfigurations'])"
   ]
  },
  {
   "cell_type": "code",
   "execution_count": null,
   "metadata": {},
   "outputs": [],
   "source": [
    "for i in range(1,8):\n",
    "    bucket_notifications_configuration = {\n",
    "                \"TopicConfigurations\": [\n",
    "                    {\n",
    "                        \"Id\": 'ach-rdfi-0620000'+str(i),\n",
    "                        \"TopicArn\": 'arn:aws:sns:s3a::rdfi',\n",
    "                        \"Events\": [\"s3:ObjectCreated:*\", \"s3:ObjectRemoved:*\"]\n",
    "                    }\n",
    "                ]\n",
    "            }\n",
    "    s3.put_bucket_notification_configuration(Bucket = 'ach-rdfi-0620000'+str(i),\n",
    "        NotificationConfiguration=bucket_notifications_configuration)"
   ]
  },
  {
   "cell_type": "code",
   "execution_count": null,
   "metadata": {},
   "outputs": [],
   "source": [
    "for i in range(1,8):\n",
    "    print(s3.get_bucket_notification_configuration(Bucket = 'ach-rdfi-0620000'+str(i))['TopicConfigurations'])"
   ]
  }
 ],
 "metadata": {
  "kernelspec": {
   "display_name": "Python 3",
   "language": "python",
   "name": "python3"
  },
  "language_info": {
   "codemirror_mode": {
    "name": "ipython",
    "version": 3
   },
   "file_extension": ".py",
   "mimetype": "text/x-python",
   "name": "python",
   "nbconvert_exporter": "python",
   "pygments_lexer": "ipython3",
   "version": "3.7.3"
  }
 },
 "nbformat": 4,
 "nbformat_minor": 2
}
